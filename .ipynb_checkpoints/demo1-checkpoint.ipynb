{
 "cells": [
  {
   "cell_type": "code",
   "execution_count": 4,
   "id": "126a8f61-8b0a-48ac-a4c2-52e423e2dc13",
   "metadata": {},
   "outputs": [],
   "source": [
    "import cv2\n",
    "import numpy as np"
   ]
  },
  {
   "cell_type": "code",
   "execution_count": 27,
   "id": "7b03d202-e9a3-48e7-9d81-3ecd15414650",
   "metadata": {},
   "outputs": [],
   "source": [
    "class Memo:\n",
    "    def __init__(self, color, content, size=100):\n",
    "        self.color = np.array(color, dtype=np.uint8)\n",
    "        self.content = content\n",
    "        self.size = int(size)\n",
    "        \n",
    "        self.pic = np.zeros((self.size, self.size, 3), dtype=np.uint8)\n",
    "        self.font = cv2.FONT_HERSHEY_SIMPLEX\n",
    "        self.font_scale = 1.5\n",
    "        self.font_color = (255, 255, 255)  # 白色\n",
    "        self.font_thickness = 2\n",
    "\n",
    "        self.update_pic()\n",
    "\n",
    "    def update_pic(self):\n",
    "        picture = np.broadcast_to(self.color, (self.size, self.size, 3))\n",
    "        picture = cv2.cvtColor(picture, cv2.COLOR_BGR2RGB)\n",
    "        \n",
    "        # 获取文本的大小\n",
    "        text_size = cv2.getTextSize(self.content, self.font, self.font_scale, self.font_thickness)\n",
    "\n",
    "        # 计算文本的位置\n",
    "        text_x = int((self.size - text_size[0][0]) / 2)\n",
    "        text_y = int((self.size + text_size[0][1]) / 2)\n",
    "        \n",
    "        # 在图像上绘制文本\n",
    "        cv2.putText(picture, self.content, (text_x, text_y), self.font, self.font_scale, self.font_color, self.font_thickness)\n",
    "\n",
    "        # update\n",
    "        self.pic = picture.astype(np.uint8)\n",
    "\n",
    "    def get_pic(self):\n",
    "        return self.pic\n",
    "\n",
    "    def merge(self, memo):\n",
    "        self.content = self.content + memo.content\n",
    "        self.color = (self.color + memo.color) // 2\n",
    "        self.update_pic()\n",
    "\n",
    "        "
   ]
  },
  {
   "cell_type": "code",
   "execution_count": 31,
   "id": "b1bc5403-9ea2-4901-9400-b1eb50573d23",
   "metadata": {},
   "outputs": [],
   "source": [
    "memo1 = Memo([200, 30, 30], \"A\")\n",
    "memo2 = Memo([30, 30, 200], \"B\")\n",
    "\n",
    "memo2.merge(memo1)\n",
    "\n",
    "# 显示图像\n",
    "cv2.imshow(\"memo1\", memo1.get_pic())\n",
    "cv2.imshow(\"memo2\", memo2.get_pic())\n",
    "cv2.waitKey(0)\n",
    "cv2.destroyAllWindows()"
   ]
  },
  {
   "cell_type": "code",
   "execution_count": 1,
   "id": "f070ac42-cbbc-4228-9ecf-b2d9bab9a835",
   "metadata": {},
   "outputs": [],
   "source": [
    "import cv2\n",
    "\n",
    "# 调用笔记本摄像头\n",
    "cap = cv2.VideoCapture(0)\n",
    "\n",
    "while True:\n",
    "    # 读取摄像头捕获的帧\n",
    "    ret, frame = cap.read()\n",
    "    \n",
    "    if ret:\n",
    "        # 显示帧\n",
    "        cv2.imshow(\"camera\", frame)\n",
    "    \n",
    "    # 按 'q' 键退出循环\n",
    "    if cv2.waitKey(1) & 0xFF == ord('q'):\n",
    "        break\n",
    "\n",
    "# 释放摄像头并关闭窗口\n",
    "cap.release()\n",
    "cv2.destroyAllWindows()\n"
   ]
  }
 ],
 "metadata": {
  "kernelspec": {
   "display_name": "VirtualMemo_3.10",
   "language": "python",
   "name": "virtualmemo_3.10"
  },
  "language_info": {
   "codemirror_mode": {
    "name": "ipython",
    "version": 3
   },
   "file_extension": ".py",
   "mimetype": "text/x-python",
   "name": "python",
   "nbconvert_exporter": "python",
   "pygments_lexer": "ipython3",
   "version": "3.10.14"
  }
 },
 "nbformat": 4,
 "nbformat_minor": 5
}
